{
 "cells": [
  {
   "cell_type": "code",
   "execution_count": 1,
   "id": "4e5e8831",
   "metadata": {},
   "outputs": [],
   "source": [
    "import os\n",
    "import pandas as pd\n",
    "import numpy as np\n",
    "import seaborn as sns\n",
    "import matplotlib.pyplot as plt\n",
    "from matplotlib.image import imread\n",
    "\n",
    "# Technically not necessary in newest versions of jupyter\n",
    "%matplotlib inline"
   ]
  },
  {
   "cell_type": "markdown",
   "id": "48d5ea39",
   "metadata": {},
   "source": [
    "## Loading data "
   ]
  },
  {
   "cell_type": "code",
   "execution_count": 2,
   "id": "830f47e1",
   "metadata": {},
   "outputs": [
    {
     "data": {
      "text/plain": [
       "['Meta', 'Meta.csv', 'Test', 'Test.csv', 'Train', 'Train.csv']"
      ]
     },
     "execution_count": 2,
     "metadata": {},
     "output_type": "execute_result"
    }
   ],
   "source": [
    "import os \n",
    "data_path = \"C:\\\\Users\\\\eslam\\\\0-MY WORK\\\\Datasets\\\\2-German traffic benchmark\\\\\"\n",
    "\n",
    "os.listdir(data_path)"
   ]
  },
  {
   "cell_type": "markdown",
   "id": "7862213a",
   "metadata": {},
   "source": [
    "## Exploring data"
   ]
  },
  {
   "cell_type": "code",
   "execution_count": 3,
   "id": "36c48f79",
   "metadata": {},
   "outputs": [],
   "source": [
    "# The PIL library is used to open image content into an array\n",
    "from PIL import Image"
   ]
  },
  {
   "cell_type": "code",
   "execution_count": 4,
   "id": "9c8f3699",
   "metadata": {},
   "outputs": [],
   "source": [
    "data = []\n",
    "labels = []\n",
    "classes = 43\n",
    "\n",
    "cur_path = os.getcwd()\n",
    "\n",
    "for i in range(43):\n",
    "    path = os.path.join(data_path, \"train\", str(i))\n",
    "    images = os.listdir(path)\n",
    "    \n",
    "    \n",
    "    for a in images:\n",
    "        try:\n",
    "            image = Image.open(path+\"\\\\\" + a)\n",
    "            image = image.resize((30,30))\n",
    "            image = np.array(image)\n",
    "            \n",
    "            data.append(image)\n",
    "            labels.append(i)\n",
    "        except:\n",
    "            print(\"Error lpading image\")\n",
    "            \n",
    "\n",
    "    "
   ]
  },
  {
   "cell_type": "code",
   "execution_count": 5,
   "id": "49fde3dd",
   "metadata": {},
   "outputs": [],
   "source": [
    "data = np.array(data)\n",
    "labels = np.array(labels)"
   ]
  },
  {
   "cell_type": "code",
   "execution_count": 6,
   "id": "70ae4036",
   "metadata": {},
   "outputs": [
    {
     "name": "stdout",
     "output_type": "stream",
     "text": [
      "(39209, 30, 30, 3)\n"
     ]
    }
   ],
   "source": [
    "print(data.shape)"
   ]
  },
  {
   "cell_type": "code",
   "execution_count": 7,
   "id": "7fbde086",
   "metadata": {},
   "outputs": [
    {
     "name": "stdout",
     "output_type": "stream",
     "text": [
      "(39209,)\n"
     ]
    }
   ],
   "source": [
    "print(labels.shape)"
   ]
  },
  {
   "cell_type": "code",
   "execution_count": 8,
   "id": "4fca10d3",
   "metadata": {},
   "outputs": [],
   "source": [
    "# split the data to train ,test \n",
    "from sklearn.model_selection import train_test_split\n",
    "\n",
    "X_train, X_test, y_train, y_test = train_test_split(data, labels, test_size=0.33, random_state=42)"
   ]
  },
  {
   "cell_type": "code",
   "execution_count": 9,
   "id": "636ff5c1",
   "metadata": {},
   "outputs": [
    {
     "name": "stdout",
     "output_type": "stream",
     "text": [
      "(26270, 30, 30, 3) (26270,)\n",
      "(12939, 30, 30, 3) (12939,)\n"
     ]
    }
   ],
   "source": [
    "print(X_train.shape, y_train.shape)\n",
    "print(X_test.shape , y_test.shape)"
   ]
  },
  {
   "cell_type": "markdown",
   "id": "091e73a9",
   "metadata": {},
   "source": [
    "**Convert the label using one-hot-encoding**"
   ]
  },
  {
   "cell_type": "code",
   "execution_count": 10,
   "id": "363011a9",
   "metadata": {},
   "outputs": [],
   "source": [
    "from tensorflow.keras.utils import to_categorical\n",
    "\n",
    "# converting\n",
    "y_train = to_categorical(y = y_train, num_classes= 43)\n",
    "y_test = to_categorical(y= y_test , num_classes= 43)"
   ]
  },
  {
   "cell_type": "code",
   "execution_count": 11,
   "id": "87556173",
   "metadata": {},
   "outputs": [
    {
     "data": {
      "text/plain": [
       "array([[0., 0., 1., ..., 0., 0., 0.],\n",
       "       [0., 0., 0., ..., 0., 0., 0.],\n",
       "       [0., 0., 0., ..., 0., 0., 0.],\n",
       "       ...,\n",
       "       [0., 0., 0., ..., 0., 0., 0.],\n",
       "       [0., 1., 0., ..., 0., 0., 0.],\n",
       "       [0., 0., 0., ..., 0., 0., 0.]], dtype=float32)"
      ]
     },
     "execution_count": 11,
     "metadata": {},
     "output_type": "execute_result"
    }
   ],
   "source": [
    "y_train"
   ]
  },
  {
   "cell_type": "code",
   "execution_count": 12,
   "id": "c17f855a",
   "metadata": {},
   "outputs": [
    {
     "data": {
      "text/plain": [
       "array([[0., 0., 0., ..., 0., 0., 0.],\n",
       "       [0., 0., 0., ..., 0., 0., 0.],\n",
       "       [0., 0., 0., ..., 0., 0., 0.],\n",
       "       ...,\n",
       "       [0., 0., 1., ..., 0., 0., 0.],\n",
       "       [0., 0., 0., ..., 0., 0., 0.],\n",
       "       [0., 0., 0., ..., 0., 0., 0.]], dtype=float32)"
      ]
     },
     "execution_count": 12,
     "metadata": {},
     "output_type": "execute_result"
    }
   ],
   "source": [
    "y_test"
   ]
  },
  {
   "cell_type": "code",
   "execution_count": 13,
   "id": "b0cd8cd9",
   "metadata": {},
   "outputs": [
    {
     "name": "stdout",
     "output_type": "stream",
     "text": [
      "(26270, 43)\n",
      "(12939, 43)\n"
     ]
    }
   ],
   "source": [
    "print(y_train.shape)\n",
    "print(y_test.shape)"
   ]
  },
  {
   "cell_type": "markdown",
   "id": "3d66f583",
   "metadata": {},
   "source": [
    "## start build the classifier"
   ]
  },
  {
   "cell_type": "code",
   "execution_count": 14,
   "id": "ef156486",
   "metadata": {},
   "outputs": [],
   "source": [
    "from tensorflow.keras.models import Sequential\n",
    "from tensorflow.keras.layers import Dense, Conv2D, Dropout, MaxPool2D , Flatten\n",
    "\n",
    "\n",
    "model = Sequential()\n",
    "# first layer\n",
    "model.add(Conv2D(filters= 32, kernel_size=(5,5) , activation= \"relu\" , input_shape = X_train.shape[1:]))\n",
    "model.add(MaxPool2D(pool_size= (2,2)))\n",
    "model.add(Dropout(rate = 0.25))\n",
    "\n",
    "# layer 2\n",
    "model.add(Conv2D(filters= 64, kernel_size=(3,3) , activation= \"relu\"))\n",
    "model.add(MaxPool2D(pool_size= (2,2)))\n",
    "model.add(Dropout(rate = 0.25))\n",
    "\n",
    "model.add(Flatten())\n",
    "\n",
    "# dense layers\n",
    "model.add(Dense(256, \"relu\"))\n",
    "model.add(Dropout(rate= 0.5))\n",
    "\n",
    "# output layer\n",
    "model.add(Dense(43 , activation= \"softmax\"))\n",
    "\n",
    "# compile the model\n",
    "model.compile(optimizer = \"adam\", \n",
    "             loss = \"categorical_crossentropy\", \n",
    "             metrics = [\"accuracy\"])"
   ]
  },
  {
   "cell_type": "code",
   "execution_count": 15,
   "id": "5cbedb15",
   "metadata": {},
   "outputs": [],
   "source": [
    "# create early stop \n",
    "from tensorflow.keras.callbacks import EarlyStopping\n",
    "early_stop = EarlyStopping(monitor= \"val_loss\" , patience= 2)"
   ]
  },
  {
   "cell_type": "markdown",
   "id": "cf2d8215",
   "metadata": {},
   "source": [
    "## train the model "
   ]
  },
  {
   "cell_type": "code",
   "execution_count": 16,
   "id": "ffb89de7",
   "metadata": {},
   "outputs": [
    {
     "name": "stdout",
     "output_type": "stream",
     "text": [
      "Train on 26270 samples, validate on 12939 samples\n",
      "Epoch 1/15\n",
      "26270/26270 [==============================] - 31s 1ms/sample - loss: 4.1592 - accuracy: 0.2373 - val_loss: 1.6813 - val_accuracy: 0.5847\n",
      "Epoch 2/15\n",
      "26270/26270 [==============================] - 30s 1ms/sample - loss: 1.6343 - accuracy: 0.5217 - val_loss: 0.8132 - val_accuracy: 0.7787\n",
      "Epoch 3/15\n",
      "26270/26270 [==============================] - 29s 1ms/sample - loss: 1.1475 - accuracy: 0.6518 - val_loss: 0.5301 - val_accuracy: 0.8623\n",
      "Epoch 4/15\n",
      "26270/26270 [==============================] - 30s 1ms/sample - loss: 0.8891 - accuracy: 0.7254 - val_loss: 0.3696 - val_accuracy: 0.9026\n",
      "Epoch 5/15\n",
      "26270/26270 [==============================] - 30s 1ms/sample - loss: 0.7408 - accuracy: 0.7722 - val_loss: 0.3183 - val_accuracy: 0.9202\n",
      "Epoch 6/15\n",
      "26270/26270 [==============================] - 29s 1ms/sample - loss: 0.6588 - accuracy: 0.7949 - val_loss: 0.2515 - val_accuracy: 0.9367\n",
      "Epoch 7/15\n",
      "26270/26270 [==============================] - 30s 1ms/sample - loss: 0.5909 - accuracy: 0.8178 - val_loss: 0.2075 - val_accuracy: 0.9438\n",
      "Epoch 8/15\n",
      "26270/26270 [==============================] - 31s 1ms/sample - loss: 0.5567 - accuracy: 0.8302 - val_loss: 0.2330 - val_accuracy: 0.9348\n",
      "Epoch 9/15\n",
      "26270/26270 [==============================] - 29s 1ms/sample - loss: 0.5116 - accuracy: 0.8411 - val_loss: 0.1826 - val_accuracy: 0.9451\n",
      "Epoch 10/15\n",
      "26270/26270 [==============================] - 31s 1ms/sample - loss: 0.4655 - accuracy: 0.8551 - val_loss: 0.1619 - val_accuracy: 0.9551\n",
      "Epoch 11/15\n",
      "26270/26270 [==============================] - 32s 1ms/sample - loss: 0.4530 - accuracy: 0.8590 - val_loss: 0.1910 - val_accuracy: 0.9517\n",
      "Epoch 12/15\n",
      "26270/26270 [==============================] - 30s 1ms/sample - loss: 0.4435 - accuracy: 0.8619 - val_loss: 0.1660 - val_accuracy: 0.9528\n"
     ]
    },
    {
     "data": {
      "text/plain": [
       "<tensorflow.python.keras.callbacks.History at 0x2f436e0e088>"
      ]
     },
     "execution_count": 16,
     "metadata": {},
     "output_type": "execute_result"
    }
   ],
   "source": [
    "model.fit(X_train , y_train , \n",
    "         batch_size = 64,\n",
    "         epochs = 15,\n",
    "         validation_data = (X_test, y_test),\n",
    "         callbacks = [early_stop])\n"
   ]
  },
  {
   "cell_type": "code",
   "execution_count": 17,
   "id": "e1b9a6da",
   "metadata": {},
   "outputs": [
    {
     "data": {
      "text/html": [
       "<div>\n",
       "<style scoped>\n",
       "    .dataframe tbody tr th:only-of-type {\n",
       "        vertical-align: middle;\n",
       "    }\n",
       "\n",
       "    .dataframe tbody tr th {\n",
       "        vertical-align: top;\n",
       "    }\n",
       "\n",
       "    .dataframe thead th {\n",
       "        text-align: right;\n",
       "    }\n",
       "</style>\n",
       "<table border=\"1\" class=\"dataframe\">\n",
       "  <thead>\n",
       "    <tr style=\"text-align: right;\">\n",
       "      <th></th>\n",
       "      <th>loss</th>\n",
       "      <th>accuracy</th>\n",
       "      <th>val_loss</th>\n",
       "      <th>val_accuracy</th>\n",
       "    </tr>\n",
       "  </thead>\n",
       "  <tbody>\n",
       "    <tr>\n",
       "      <th>0</th>\n",
       "      <td>4.159198</td>\n",
       "      <td>0.237305</td>\n",
       "      <td>1.681254</td>\n",
       "      <td>0.584744</td>\n",
       "    </tr>\n",
       "    <tr>\n",
       "      <th>1</th>\n",
       "      <td>1.634346</td>\n",
       "      <td>0.521698</td>\n",
       "      <td>0.813230</td>\n",
       "      <td>0.778731</td>\n",
       "    </tr>\n",
       "    <tr>\n",
       "      <th>2</th>\n",
       "      <td>1.147485</td>\n",
       "      <td>0.651846</td>\n",
       "      <td>0.530084</td>\n",
       "      <td>0.862277</td>\n",
       "    </tr>\n",
       "    <tr>\n",
       "      <th>3</th>\n",
       "      <td>0.889090</td>\n",
       "      <td>0.725390</td>\n",
       "      <td>0.369570</td>\n",
       "      <td>0.902620</td>\n",
       "    </tr>\n",
       "    <tr>\n",
       "      <th>4</th>\n",
       "      <td>0.740845</td>\n",
       "      <td>0.772212</td>\n",
       "      <td>0.318300</td>\n",
       "      <td>0.920241</td>\n",
       "    </tr>\n",
       "    <tr>\n",
       "      <th>5</th>\n",
       "      <td>0.658825</td>\n",
       "      <td>0.794861</td>\n",
       "      <td>0.251493</td>\n",
       "      <td>0.936703</td>\n",
       "    </tr>\n",
       "    <tr>\n",
       "      <th>6</th>\n",
       "      <td>0.590876</td>\n",
       "      <td>0.817777</td>\n",
       "      <td>0.207517</td>\n",
       "      <td>0.943813</td>\n",
       "    </tr>\n",
       "    <tr>\n",
       "      <th>7</th>\n",
       "      <td>0.556744</td>\n",
       "      <td>0.830187</td>\n",
       "      <td>0.233012</td>\n",
       "      <td>0.934771</td>\n",
       "    </tr>\n",
       "    <tr>\n",
       "      <th>8</th>\n",
       "      <td>0.511607</td>\n",
       "      <td>0.841150</td>\n",
       "      <td>0.182594</td>\n",
       "      <td>0.945127</td>\n",
       "    </tr>\n",
       "    <tr>\n",
       "      <th>9</th>\n",
       "      <td>0.465534</td>\n",
       "      <td>0.855082</td>\n",
       "      <td>0.161926</td>\n",
       "      <td>0.955097</td>\n",
       "    </tr>\n",
       "    <tr>\n",
       "      <th>10</th>\n",
       "      <td>0.452985</td>\n",
       "      <td>0.858965</td>\n",
       "      <td>0.191017</td>\n",
       "      <td>0.951696</td>\n",
       "    </tr>\n",
       "    <tr>\n",
       "      <th>11</th>\n",
       "      <td>0.443507</td>\n",
       "      <td>0.861896</td>\n",
       "      <td>0.165997</td>\n",
       "      <td>0.952778</td>\n",
       "    </tr>\n",
       "  </tbody>\n",
       "</table>\n",
       "</div>"
      ],
      "text/plain": [
       "        loss  accuracy  val_loss  val_accuracy\n",
       "0   4.159198  0.237305  1.681254      0.584744\n",
       "1   1.634346  0.521698  0.813230      0.778731\n",
       "2   1.147485  0.651846  0.530084      0.862277\n",
       "3   0.889090  0.725390  0.369570      0.902620\n",
       "4   0.740845  0.772212  0.318300      0.920241\n",
       "5   0.658825  0.794861  0.251493      0.936703\n",
       "6   0.590876  0.817777  0.207517      0.943813\n",
       "7   0.556744  0.830187  0.233012      0.934771\n",
       "8   0.511607  0.841150  0.182594      0.945127\n",
       "9   0.465534  0.855082  0.161926      0.955097\n",
       "10  0.452985  0.858965  0.191017      0.951696\n",
       "11  0.443507  0.861896  0.165997      0.952778"
      ]
     },
     "execution_count": 17,
     "metadata": {},
     "output_type": "execute_result"
    }
   ],
   "source": [
    "losses = pd.DataFrame(model.history.history)\n",
    "losses"
   ]
  },
  {
   "cell_type": "code",
   "execution_count": 68,
   "id": "64948f03",
   "metadata": {},
   "outputs": [
    {
     "data": {
      "text/plain": [
       "<Figure size 720x360 with 0 Axes>"
      ]
     },
     "metadata": {},
     "output_type": "display_data"
    },
    {
     "data": {
      "image/png": "[encoded data removed]",
      "text/plain": [
       "<Figure size 720x360 with 1 Axes>"
      ]
     },
     "metadata": {
      "needs_background": "light"
     },
     "output_type": "display_data"
    },
    {
     "data": {
      "text/plain": [
       "<Figure size 432x288 with 0 Axes>"
      ]
     },
     "metadata": {},
     "output_type": "display_data"
    }
   ],
   "source": [
    "plt.figure(figsize = (10,5))\n",
    "losses[[\"accuracy\",\"val_accuracy\"]].plot(figsize = (10,5) , title = \"Training Accuracy vs Validation Accuracy\" ,\n",
    "                                         legend = \"best\" )\n",
    "\n",
    "plt.xlabel(\"epochs\")\n",
    "plt.ylabel(\"accuracy score\")\n",
    "\n",
    "plt.show()\n",
    "\n",
    "plt.savefig(\"Training Accuracy.jpg\")\n",
    "plt.show()"
   ]
  },
  {
   "cell_type": "code",
   "execution_count": 78,
   "id": "8d025efa",
   "metadata": {},
   "outputs": [
    {
     "data": {
      "text/plain": [
       "<matplotlib.legend.Legend at 0x2f438755bc8>"
      ]
     },
     "execution_count": 78,
     "metadata": {},
     "output_type": "execute_result"
    },
    {
     "data": {
      "image/png": "[encoded data removed]",
      "text/plain": [
       "<Figure size 720x360 with 1 Axes>"
      ]
     },
     "metadata": {
      "needs_background": "light"
     },
     "output_type": "display_data"
    }
   ],
   "source": [
    "plt.figure(figsize = (10,5))\n",
    "plt.plot(losses[[\"accuracy\"]] , label = \"accuracy\")\n",
    "plt.plot(losses[[\"val_accuracy\"]] , label = \"val_accuracy\")\n",
    "\n",
    "plt.xlabel(\"epochs\")\n",
    "plt.ylabel(\"accuracy score\")\n",
    "plt.title(\"Training accuracy vs vakidation accuracy\")\n",
    "plt.legend(loc = \"best\")\n",
    "\n",
    "# save the figure as an image \n",
    "# plt.savefig(\"training accuracy.png\")\n",
    "# plt.close()                       # you have to close the plt show moode or something near to this check the link below \n",
    "\n",
    "# ( https://stackoverflow.com/questions/9622163/save-plot-to-image-file-instead-of-displaying-it-using-matplotlib )"
   ]
  },
  {
   "cell_type": "code",
   "execution_count": 80,
   "id": "5237ff90",
   "metadata": {},
   "outputs": [
    {
     "data": {
      "text/plain": [
       "<matplotlib.legend.Legend at 0x2f43406f548>"
      ]
     },
     "execution_count": 80,
     "metadata": {},
     "output_type": "execute_result"
    },
    {
     "data": {
      "image/png": "[encoded data removed]",
      "text/plain": [
       "<Figure size 720x360 with 1 Axes>"
      ]
     },
     "metadata": {
      "needs_background": "light"
     },
     "output_type": "display_data"
    }
   ],
   "source": [
    "plt.figure(figsize = (10,5))\n",
    "plt.plot(losses[[\"loss\"]] , label = \"loss\")\n",
    "plt.plot(losses[[\"val_loss\"]] , label = \"val_loss\")\n",
    "\n",
    "plt.xlabel(\"epochs\")\n",
    "plt.ylabel(\"accuracy score\")\n",
    "plt.title(\"Training accuracy vs vakidation accuracy\")\n",
    "plt.legend(loc = \"best\")\n",
    "\n",
    "# plt.savefig(\"training losses.png\")\n",
    "# plt.close()"
   ]
  },
  {
   "cell_type": "code",
   "execution_count": 20,
   "id": "f990e3dd",
   "metadata": {},
   "outputs": [],
   "source": []
  },
  {
   "cell_type": "code",
   "execution_count": null,
   "id": "e9fcdd74",
   "metadata": {},
   "outputs": [],
   "source": []
  },
  {
   "cell_type": "code",
   "execution_count": 21,
   "id": "ef2ff1bc",
   "metadata": {},
   "outputs": [],
   "source": [
    "import pandas as pd\n",
    "test = pd.read_csv(\"C:\\\\Users\\\\eslam\\\\0-MY WORK\\\\Datasets\\\\2-German traffic benchmark\\\\Test.csv\")\n",
    "labels = test[\"ClassId\"].values\n",
    "images = test[\"Path\"].values\n",
    "\n",
    "\n"
   ]
  },
  {
   "cell_type": "code",
   "execution_count": null,
   "id": "2816e122",
   "metadata": {},
   "outputs": [],
   "source": []
  },
  {
   "cell_type": "code",
   "execution_count": 22,
   "id": "356c8c19",
   "metadata": {},
   "outputs": [
    {
     "data": {
      "image/png": "[encoded data removed]",
      "text/plain": [
       "<PIL.PngImagePlugin.PngImageFile image mode=RGB size=42x45 at 0x2F43B07D888>"
      ]
     },
     "execution_count": 22,
     "metadata": {},
     "output_type": "execute_result"
    }
   ],
   "source": [
    "Image.open(\"C:\\\\Users\\\\eslam\\\\0-MY WORK\\\\Datasets\\\\2-German traffic benchmark\\\\Test\\\\00001.png\")"
   ]
  },
  {
   "cell_type": "code",
   "execution_count": 23,
   "id": "c8dd07d2",
   "metadata": {},
   "outputs": [],
   "source": [
    "data = []\n",
    "\n",
    "for img in images:\n",
    "    image = Image.open(data_path+ str(img))\n",
    "    image = image.resize((30,30))\n",
    "    data.append(np.array(image))\n",
    "    "
   ]
  },
  {
   "cell_type": "code",
   "execution_count": 24,
   "id": "f57cdeb5",
   "metadata": {},
   "outputs": [],
   "source": [
    "# convert to array\n",
    "X_test = np.array(data)"
   ]
  },
  {
   "cell_type": "code",
   "execution_count": null,
   "id": "c4d04245",
   "metadata": {},
   "outputs": [],
   "source": []
  },
  {
   "cell_type": "code",
   "execution_count": 26,
   "id": "8a8207c5",
   "metadata": {},
   "outputs": [],
   "source": [
    "X_test = X_test.astype(\"float32\")"
   ]
  },
  {
   "cell_type": "code",
   "execution_count": 27,
   "id": "00e270ef",
   "metadata": {},
   "outputs": [],
   "source": [
    "pred = model.predict_classes(X_test)"
   ]
  },
  {
   "cell_type": "markdown",
   "id": "cb044aed",
   "metadata": {},
   "source": [
    "## Evaluating the model "
   ]
  },
  {
   "cell_type": "code",
   "execution_count": 29,
   "id": "dbe83370",
   "metadata": {},
   "outputs": [],
   "source": [
    "from sklearn.metrics import classification_report, confusion_matrix, accuracy_score"
   ]
  },
  {
   "cell_type": "code",
   "execution_count": 34,
   "id": "ce545762",
   "metadata": {},
   "outputs": [
    {
     "name": "stdout",
     "output_type": "stream",
     "text": [
      "The Accuracy Score of our Classifier is [0.9056215360253365]\n"
     ]
    }
   ],
   "source": [
    "print(\"The Accuracy Score of our Classifier is [{}]\".format(accuracy_score(labels , pred)))"
   ]
  },
  {
   "cell_type": "code",
   "execution_count": 42,
   "id": "7deb6022",
   "metadata": {},
   "outputs": [
    {
     "data": {
      "text/plain": [
       "array([[ 49,   4,   0, ...,   0,   0,   0],\n",
       "       [ 12, 655,  13, ...,   1,   0,   0],\n",
       "       [  0,   8, 656, ...,   0,   0,   0],\n",
       "       ...,\n",
       "       [  0,   0,   0, ...,  87,   0,   0],\n",
       "       [  0,   0,   0, ...,   0,  40,   0],\n",
       "       [  0,   0,   0, ...,   0,  16,  71]], dtype=int64)"
      ]
     },
     "execution_count": 42,
     "metadata": {},
     "output_type": "execute_result"
    }
   ],
   "source": [
    "# classification report\n",
    "matrix = confusion_matrix(labels , pred)\n",
    "matrix"
   ]
  },
  {
   "cell_type": "code",
   "execution_count": 41,
   "id": "c8589ca1",
   "metadata": {},
   "outputs": [
    {
     "data": {
      "text/plain": [
       "<matplotlib.axes._subplots.AxesSubplot at 0x2f42b7c6908>"
      ]
     },
     "execution_count": 41,
     "metadata": {},
     "output_type": "execute_result"
    },
    {
     "data": {
      "image/png": "[encoded data removed]",
      "text/plain": [
       "<Figure size 1080x576 with 2 Axes>"
      ]
     },
     "metadata": {
      "needs_background": "light"
     },
     "output_type": "display_data"
    }
   ],
   "source": [
    "plt.figure(figsize = (15, 8))\n",
    "sns.heatmap(matrix)"
   ]
  },
  {
   "cell_type": "code",
   "execution_count": 47,
   "id": "013179a7",
   "metadata": {},
   "outputs": [
    {
     "name": "stdout",
     "output_type": "stream",
     "text": [
      "              precision    recall  f1-score   support\n",
      "\n",
      "           0       0.80      0.82      0.81        60\n",
      "           1       0.93      0.91      0.92       720\n",
      "           2       0.91      0.87      0.89       750\n",
      "           3       0.78      0.90      0.84       450\n",
      "           4       0.94      0.88      0.91       660\n",
      "           5       0.85      0.79      0.82       630\n",
      "           6       0.99      0.77      0.87       150\n",
      "           7       0.90      0.79      0.84       450\n",
      "           8       0.76      0.93      0.83       450\n",
      "           9       0.95      0.98      0.97       480\n",
      "          10       0.97      0.99      0.98       660\n",
      "          11       0.95      0.90      0.92       420\n",
      "          12       0.97      0.90      0.94       690\n",
      "          13       0.94      0.99      0.97       720\n",
      "          14       1.00      0.99      0.99       270\n",
      "          15       0.90      1.00      0.95       210\n",
      "          16       0.99      0.99      0.99       150\n",
      "          17       0.99      0.93      0.96       360\n",
      "          18       0.82      0.88      0.85       390\n",
      "          19       0.83      0.98      0.90        60\n",
      "          20       0.82      0.99      0.90        90\n",
      "          21       0.60      0.46      0.52        90\n",
      "          22       0.88      0.96      0.92       120\n",
      "          23       0.91      0.84      0.87       150\n",
      "          24       0.90      0.63      0.75        90\n",
      "          25       0.96      0.89      0.92       480\n",
      "          26       0.90      0.74      0.81       180\n",
      "          27       0.63      0.53      0.58        60\n",
      "          28       0.99      0.90      0.94       150\n",
      "          29       0.92      0.89      0.90        90\n",
      "          30       0.65      0.72      0.68       150\n",
      "          31       0.84      0.99      0.91       270\n",
      "          32       0.89      0.98      0.94        60\n",
      "          33       0.99      0.98      0.98       210\n",
      "          34       0.97      0.99      0.98       120\n",
      "          35       1.00      0.97      0.99       390\n",
      "          36       0.99      0.87      0.92       120\n",
      "          37       0.95      0.98      0.97        60\n",
      "          38       0.91      0.99      0.95       690\n",
      "          39       0.96      0.94      0.95        90\n",
      "          40       0.76      0.97      0.85        90\n",
      "          41       0.66      0.67      0.66        60\n",
      "          42       0.85      0.79      0.82        90\n",
      "\n",
      "    accuracy                           0.91     12630\n",
      "   macro avg       0.89      0.88      0.88     12630\n",
      "weighted avg       0.91      0.91      0.91     12630\n",
      "\n"
     ]
    }
   ],
   "source": [
    "print(classification_report(labels , pred))"
   ]
  },
  {
   "cell_type": "code",
   "execution_count": 49,
   "id": "f53d37d8",
   "metadata": {},
   "outputs": [
    {
     "data": {
      "text/html": [
       "<div>\n",
       "<style scoped>\n",
       "    .dataframe tbody tr th:only-of-type {\n",
       "        vertical-align: middle;\n",
       "    }\n",
       "\n",
       "    .dataframe tbody tr th {\n",
       "        vertical-align: top;\n",
       "    }\n",
       "\n",
       "    .dataframe thead th {\n",
       "        text-align: right;\n",
       "    }\n",
       "</style>\n",
       "<table border=\"1\" class=\"dataframe\">\n",
       "  <thead>\n",
       "    <tr style=\"text-align: right;\">\n",
       "      <th></th>\n",
       "      <th>precision</th>\n",
       "      <th>recall</th>\n",
       "      <th>f1-score</th>\n",
       "      <th>support</th>\n",
       "    </tr>\n",
       "  </thead>\n",
       "  <tbody>\n",
       "    <tr>\n",
       "      <th>0</th>\n",
       "      <td>0.803279</td>\n",
       "      <td>0.816667</td>\n",
       "      <td>0.809917</td>\n",
       "      <td>60.000000</td>\n",
       "    </tr>\n",
       "    <tr>\n",
       "      <th>1</th>\n",
       "      <td>0.929078</td>\n",
       "      <td>0.909722</td>\n",
       "      <td>0.919298</td>\n",
       "      <td>720.000000</td>\n",
       "    </tr>\n",
       "    <tr>\n",
       "      <th>2</th>\n",
       "      <td>0.907331</td>\n",
       "      <td>0.874667</td>\n",
       "      <td>0.890699</td>\n",
       "      <td>750.000000</td>\n",
       "    </tr>\n",
       "    <tr>\n",
       "      <th>3</th>\n",
       "      <td>0.781431</td>\n",
       "      <td>0.897778</td>\n",
       "      <td>0.835574</td>\n",
       "      <td>450.000000</td>\n",
       "    </tr>\n",
       "    <tr>\n",
       "      <th>4</th>\n",
       "      <td>0.943089</td>\n",
       "      <td>0.878788</td>\n",
       "      <td>0.909804</td>\n",
       "      <td>660.000000</td>\n",
       "    </tr>\n",
       "    <tr>\n",
       "      <th>5</th>\n",
       "      <td>0.850340</td>\n",
       "      <td>0.793651</td>\n",
       "      <td>0.821018</td>\n",
       "      <td>630.000000</td>\n",
       "    </tr>\n",
       "    <tr>\n",
       "      <th>6</th>\n",
       "      <td>0.991453</td>\n",
       "      <td>0.773333</td>\n",
       "      <td>0.868914</td>\n",
       "      <td>150.000000</td>\n",
       "    </tr>\n",
       "    <tr>\n",
       "      <th>7</th>\n",
       "      <td>0.896725</td>\n",
       "      <td>0.791111</td>\n",
       "      <td>0.840614</td>\n",
       "      <td>450.000000</td>\n",
       "    </tr>\n",
       "    <tr>\n",
       "      <th>8</th>\n",
       "      <td>0.755396</td>\n",
       "      <td>0.933333</td>\n",
       "      <td>0.834990</td>\n",
       "      <td>450.000000</td>\n",
       "    </tr>\n",
       "    <tr>\n",
       "      <th>9</th>\n",
       "      <td>0.951417</td>\n",
       "      <td>0.979167</td>\n",
       "      <td>0.965092</td>\n",
       "      <td>480.000000</td>\n",
       "    </tr>\n",
       "    <tr>\n",
       "      <th>10</th>\n",
       "      <td>0.965875</td>\n",
       "      <td>0.986364</td>\n",
       "      <td>0.976012</td>\n",
       "      <td>660.000000</td>\n",
       "    </tr>\n",
       "    <tr>\n",
       "      <th>11</th>\n",
       "      <td>0.947368</td>\n",
       "      <td>0.900000</td>\n",
       "      <td>0.923077</td>\n",
       "      <td>420.000000</td>\n",
       "    </tr>\n",
       "    <tr>\n",
       "      <th>12</th>\n",
       "      <td>0.973479</td>\n",
       "      <td>0.904348</td>\n",
       "      <td>0.937641</td>\n",
       "      <td>690.000000</td>\n",
       "    </tr>\n",
       "    <tr>\n",
       "      <th>13</th>\n",
       "      <td>0.943272</td>\n",
       "      <td>0.993056</td>\n",
       "      <td>0.967524</td>\n",
       "      <td>720.000000</td>\n",
       "    </tr>\n",
       "    <tr>\n",
       "      <th>14</th>\n",
       "      <td>0.996269</td>\n",
       "      <td>0.988889</td>\n",
       "      <td>0.992565</td>\n",
       "      <td>270.000000</td>\n",
       "    </tr>\n",
       "    <tr>\n",
       "      <th>15</th>\n",
       "      <td>0.904762</td>\n",
       "      <td>0.995238</td>\n",
       "      <td>0.947846</td>\n",
       "      <td>210.000000</td>\n",
       "    </tr>\n",
       "    <tr>\n",
       "      <th>16</th>\n",
       "      <td>0.986667</td>\n",
       "      <td>0.986667</td>\n",
       "      <td>0.986667</td>\n",
       "      <td>150.000000</td>\n",
       "    </tr>\n",
       "    <tr>\n",
       "      <th>17</th>\n",
       "      <td>0.988166</td>\n",
       "      <td>0.927778</td>\n",
       "      <td>0.957020</td>\n",
       "      <td>360.000000</td>\n",
       "    </tr>\n",
       "    <tr>\n",
       "      <th>18</th>\n",
       "      <td>0.820574</td>\n",
       "      <td>0.879487</td>\n",
       "      <td>0.849010</td>\n",
       "      <td>390.000000</td>\n",
       "    </tr>\n",
       "    <tr>\n",
       "      <th>19</th>\n",
       "      <td>0.830986</td>\n",
       "      <td>0.983333</td>\n",
       "      <td>0.900763</td>\n",
       "      <td>60.000000</td>\n",
       "    </tr>\n",
       "    <tr>\n",
       "      <th>20</th>\n",
       "      <td>0.824074</td>\n",
       "      <td>0.988889</td>\n",
       "      <td>0.898990</td>\n",
       "      <td>90.000000</td>\n",
       "    </tr>\n",
       "    <tr>\n",
       "      <th>21</th>\n",
       "      <td>0.602941</td>\n",
       "      <td>0.455556</td>\n",
       "      <td>0.518987</td>\n",
       "      <td>90.000000</td>\n",
       "    </tr>\n",
       "    <tr>\n",
       "      <th>22</th>\n",
       "      <td>0.884615</td>\n",
       "      <td>0.958333</td>\n",
       "      <td>0.920000</td>\n",
       "      <td>120.000000</td>\n",
       "    </tr>\n",
       "    <tr>\n",
       "      <th>23</th>\n",
       "      <td>0.906475</td>\n",
       "      <td>0.840000</td>\n",
       "      <td>0.871972</td>\n",
       "      <td>150.000000</td>\n",
       "    </tr>\n",
       "    <tr>\n",
       "      <th>24</th>\n",
       "      <td>0.904762</td>\n",
       "      <td>0.633333</td>\n",
       "      <td>0.745098</td>\n",
       "      <td>90.000000</td>\n",
       "    </tr>\n",
       "    <tr>\n",
       "      <th>25</th>\n",
       "      <td>0.955457</td>\n",
       "      <td>0.893750</td>\n",
       "      <td>0.923574</td>\n",
       "      <td>480.000000</td>\n",
       "    </tr>\n",
       "    <tr>\n",
       "      <th>26</th>\n",
       "      <td>0.898649</td>\n",
       "      <td>0.738889</td>\n",
       "      <td>0.810976</td>\n",
       "      <td>180.000000</td>\n",
       "    </tr>\n",
       "    <tr>\n",
       "      <th>27</th>\n",
       "      <td>0.627451</td>\n",
       "      <td>0.533333</td>\n",
       "      <td>0.576577</td>\n",
       "      <td>60.000000</td>\n",
       "    </tr>\n",
       "    <tr>\n",
       "      <th>28</th>\n",
       "      <td>0.985401</td>\n",
       "      <td>0.900000</td>\n",
       "      <td>0.940767</td>\n",
       "      <td>150.000000</td>\n",
       "    </tr>\n",
       "    <tr>\n",
       "      <th>29</th>\n",
       "      <td>0.919540</td>\n",
       "      <td>0.888889</td>\n",
       "      <td>0.903955</td>\n",
       "      <td>90.000000</td>\n",
       "    </tr>\n",
       "    <tr>\n",
       "      <th>30</th>\n",
       "      <td>0.650602</td>\n",
       "      <td>0.720000</td>\n",
       "      <td>0.683544</td>\n",
       "      <td>150.000000</td>\n",
       "    </tr>\n",
       "    <tr>\n",
       "      <th>31</th>\n",
       "      <td>0.839117</td>\n",
       "      <td>0.985185</td>\n",
       "      <td>0.906303</td>\n",
       "      <td>270.000000</td>\n",
       "    </tr>\n",
       "    <tr>\n",
       "      <th>32</th>\n",
       "      <td>0.893939</td>\n",
       "      <td>0.983333</td>\n",
       "      <td>0.936508</td>\n",
       "      <td>60.000000</td>\n",
       "    </tr>\n",
       "    <tr>\n",
       "      <th>33</th>\n",
       "      <td>0.985646</td>\n",
       "      <td>0.980952</td>\n",
       "      <td>0.983294</td>\n",
       "      <td>210.000000</td>\n",
       "    </tr>\n",
       "    <tr>\n",
       "      <th>34</th>\n",
       "      <td>0.967480</td>\n",
       "      <td>0.991667</td>\n",
       "      <td>0.979424</td>\n",
       "      <td>120.000000</td>\n",
       "    </tr>\n",
       "    <tr>\n",
       "      <th>35</th>\n",
       "      <td>0.997375</td>\n",
       "      <td>0.974359</td>\n",
       "      <td>0.985733</td>\n",
       "      <td>390.000000</td>\n",
       "    </tr>\n",
       "    <tr>\n",
       "      <th>36</th>\n",
       "      <td>0.990476</td>\n",
       "      <td>0.866667</td>\n",
       "      <td>0.924444</td>\n",
       "      <td>120.000000</td>\n",
       "    </tr>\n",
       "    <tr>\n",
       "      <th>37</th>\n",
       "      <td>0.951613</td>\n",
       "      <td>0.983333</td>\n",
       "      <td>0.967213</td>\n",
       "      <td>60.000000</td>\n",
       "    </tr>\n",
       "    <tr>\n",
       "      <th>38</th>\n",
       "      <td>0.909454</td>\n",
       "      <td>0.989855</td>\n",
       "      <td>0.947953</td>\n",
       "      <td>690.000000</td>\n",
       "    </tr>\n",
       "    <tr>\n",
       "      <th>39</th>\n",
       "      <td>0.955056</td>\n",
       "      <td>0.944444</td>\n",
       "      <td>0.949721</td>\n",
       "      <td>90.000000</td>\n",
       "    </tr>\n",
       "    <tr>\n",
       "      <th>40</th>\n",
       "      <td>0.756522</td>\n",
       "      <td>0.966667</td>\n",
       "      <td>0.848780</td>\n",
       "      <td>90.000000</td>\n",
       "    </tr>\n",
       "    <tr>\n",
       "      <th>41</th>\n",
       "      <td>0.655738</td>\n",
       "      <td>0.666667</td>\n",
       "      <td>0.661157</td>\n",
       "      <td>60.000000</td>\n",
       "    </tr>\n",
       "    <tr>\n",
       "      <th>42</th>\n",
       "      <td>0.845238</td>\n",
       "      <td>0.788889</td>\n",
       "      <td>0.816092</td>\n",
       "      <td>90.000000</td>\n",
       "    </tr>\n",
       "    <tr>\n",
       "      <th>accuracy</th>\n",
       "      <td>0.905622</td>\n",
       "      <td>0.905622</td>\n",
       "      <td>0.905622</td>\n",
       "      <td>0.905622</td>\n",
       "    </tr>\n",
       "    <tr>\n",
       "      <th>macro avg</th>\n",
       "      <td>0.885455</td>\n",
       "      <td>0.880613</td>\n",
       "      <td>0.879886</td>\n",
       "      <td>12630.000000</td>\n",
       "    </tr>\n",
       "    <tr>\n",
       "      <th>weighted avg</th>\n",
       "      <td>0.908827</td>\n",
       "      <td>0.905622</td>\n",
       "      <td>0.905159</td>\n",
       "      <td>12630.000000</td>\n",
       "    </tr>\n",
       "  </tbody>\n",
       "</table>\n",
       "</div>"
      ],
      "text/plain": [
       "              precision    recall  f1-score       support\n",
       "0              0.803279  0.816667  0.809917     60.000000\n",
       "1              0.929078  0.909722  0.919298    720.000000\n",
       "2              0.907331  0.874667  0.890699    750.000000\n",
       "3              0.781431  0.897778  0.835574    450.000000\n",
       "4              0.943089  0.878788  0.909804    660.000000\n",
       "5              0.850340  0.793651  0.821018    630.000000\n",
       "6              0.991453  0.773333  0.868914    150.000000\n",
       "7              0.896725  0.791111  0.840614    450.000000\n",
       "8              0.755396  0.933333  0.834990    450.000000\n",
       "9              0.951417  0.979167  0.965092    480.000000\n",
       "10             0.965875  0.986364  0.976012    660.000000\n",
       "11             0.947368  0.900000  0.923077    420.000000\n",
       "12             0.973479  0.904348  0.937641    690.000000\n",
       "13             0.943272  0.993056  0.967524    720.000000\n",
       "14             0.996269  0.988889  0.992565    270.000000\n",
       "15             0.904762  0.995238  0.947846    210.000000\n",
       "16             0.986667  0.986667  0.986667    150.000000\n",
       "17             0.988166  0.927778  0.957020    360.000000\n",
       "18             0.820574  0.879487  0.849010    390.000000\n",
       "19             0.830986  0.983333  0.900763     60.000000\n",
       "20             0.824074  0.988889  0.898990     90.000000\n",
       "21             0.602941  0.455556  0.518987     90.000000\n",
       "22             0.884615  0.958333  0.920000    120.000000\n",
       "23             0.906475  0.840000  0.871972    150.000000\n",
       "24             0.904762  0.633333  0.745098     90.000000\n",
       "25             0.955457  0.893750  0.923574    480.000000\n",
       "26             0.898649  0.738889  0.810976    180.000000\n",
       "27             0.627451  0.533333  0.576577     60.000000\n",
       "28             0.985401  0.900000  0.940767    150.000000\n",
       "29             0.919540  0.888889  0.903955     90.000000\n",
       "30             0.650602  0.720000  0.683544    150.000000\n",
       "31             0.839117  0.985185  0.906303    270.000000\n",
       "32             0.893939  0.983333  0.936508     60.000000\n",
       "33             0.985646  0.980952  0.983294    210.000000\n",
       "34             0.967480  0.991667  0.979424    120.000000\n",
       "35             0.997375  0.974359  0.985733    390.000000\n",
       "36             0.990476  0.866667  0.924444    120.000000\n",
       "37             0.951613  0.983333  0.967213     60.000000\n",
       "38             0.909454  0.989855  0.947953    690.000000\n",
       "39             0.955056  0.944444  0.949721     90.000000\n",
       "40             0.756522  0.966667  0.848780     90.000000\n",
       "41             0.655738  0.666667  0.661157     60.000000\n",
       "42             0.845238  0.788889  0.816092     90.000000\n",
       "accuracy       0.905622  0.905622  0.905622      0.905622\n",
       "macro avg      0.885455  0.880613  0.879886  12630.000000\n",
       "weighted avg   0.908827  0.905622  0.905159  12630.000000"
      ]
     },
     "execution_count": 49,
     "metadata": {},
     "output_type": "execute_result"
    }
   ],
   "source": [
    "# transform yosur classification report into a file\n",
    "\n",
    "report = classification_report(labels , pred, output_dict= True)\n",
    "report_df = pd.DataFrame(report).transpose()\n",
    "\n",
    "report_df"
   ]
  },
  {
   "cell_type": "code",
   "execution_count": 53,
   "id": "34d9f014",
   "metadata": {},
   "outputs": [],
   "source": [
    "report_df.to_csv(\"model_1 report.csv\")"
   ]
  },
  {
   "cell_type": "code",
   "execution_count": 81,
   "id": "f25adcb2",
   "metadata": {},
   "outputs": [
    {
     "name": "stdout",
     "output_type": "stream",
     "text": [
      "Model: \"sequential\"\n",
      "_________________________________________________________________\n",
      "Layer (type)                 Output Shape              Param #   \n",
      "=================================================================\n",
      "conv2d (Conv2D)              (None, 26, 26, 32)        2432      \n",
      "_________________________________________________________________\n",
      "max_pooling2d (MaxPooling2D) (None, 13, 13, 32)        0         \n",
      "_________________________________________________________________\n",
      "dropout (Dropout)            (None, 13, 13, 32)        0         \n",
      "_________________________________________________________________\n",
      "conv2d_1 (Conv2D)            (None, 11, 11, 64)        18496     \n",
      "_________________________________________________________________\n",
      "max_pooling2d_1 (MaxPooling2 (None, 5, 5, 64)          0         \n",
      "_________________________________________________________________\n",
      "dropout_1 (Dropout)          (None, 5, 5, 64)          0         \n",
      "_________________________________________________________________\n",
      "flatten (Flatten)            (None, 1600)              0         \n",
      "_________________________________________________________________\n",
      "dense (Dense)                (None, 256)               409856    \n",
      "_________________________________________________________________\n",
      "dropout_2 (Dropout)          (None, 256)               0         \n",
      "_________________________________________________________________\n",
      "dense_1 (Dense)              (None, 43)                11051     \n",
      "=================================================================\n",
      "Total params: 441,835\n",
      "Trainable params: 441,835\n",
      "Non-trainable params: 0\n",
      "_________________________________________________________________\n"
     ]
    }
   ],
   "source": [
    "model.summary()"
   ]
  },
  {
   "cell_type": "markdown",
   "id": "4fecfbe4",
   "metadata": {},
   "source": [
    "## save model summary "
   ]
  },
  {
   "cell_type": "code",
   "execution_count": 87,
   "id": "a8ffe8e5",
   "metadata": {},
   "outputs": [],
   "source": [
    "from contextlib import redirect_stdout\n",
    "\n",
    "with open('modelsummary.txt', 'w') as f:\n",
    "    with redirect_stdout(f):\n",
    "        model.summary()"
   ]
  },
  {
   "cell_type": "markdown",
   "id": "9b68e79b",
   "metadata": {},
   "source": [
    "## Save model"
   ]
  },
  {
   "cell_type": "code",
   "execution_count": 89,
   "id": "f0bc963a",
   "metadata": {},
   "outputs": [],
   "source": [
    "model.save(\"traffic_classifier_.h5\")"
   ]
  },
  {
   "cell_type": "code",
   "execution_count": null,
   "id": "97766040",
   "metadata": {},
   "outputs": [],
   "source": []
  }
 ],
 "metadata": {
  "kernelspec": {
   "display_name": "Python 3",
   "language": "python",
   "name": "python3"
  },
  "language_info": {
   "codemirror_mode": {
    "name": "ipython",
    "version": 3
   },
   "file_extension": ".py",
   "mimetype": "text/x-python",
   "name": "python",
   "nbconvert_exporter": "python",
   "pygments_lexer": "ipython3",
   "version": "3.7.10"
  }
 },
 "nbformat": 4,
 "nbformat_minor": 5
}
