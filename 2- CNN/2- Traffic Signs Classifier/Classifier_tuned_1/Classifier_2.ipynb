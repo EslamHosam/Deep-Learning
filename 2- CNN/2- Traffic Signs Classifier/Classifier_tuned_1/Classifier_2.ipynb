{
 "cells": [
  {
   "cell_type": "code",
   "execution_count": 17,
   "id": "4e5e8831",
   "metadata": {},
   "outputs": [],
   "source": [
    "import os\n",
    "import pandas as pd\n",
    "import numpy as np\n",
    "import seaborn as sns\n",
    "import matplotlib.pyplot as plt\n",
    "from matplotlib.image import imread\n",
    "\n",
    "# Technically not necessary in newest versions of jupyter\n",
    "%matplotlib inline"
   ]
  },
  {
   "cell_type": "markdown",
   "id": "48d5ea39",
   "metadata": {},
   "source": [
    "## Loading data "
   ]
  },
  {
   "cell_type": "code",
   "execution_count": 18,
   "id": "830f47e1",
   "metadata": {},
   "outputs": [
    {
     "data": {
      "text/plain": [
       "['Meta', 'Meta.csv', 'Test', 'Test.csv', 'Train', 'Train.csv']"
      ]
     },
     "execution_count": 18,
     "metadata": {},
     "output_type": "execute_result"
    }
   ],
   "source": [
    "import os \n",
    "data_path = \"C:\\\\Users\\\\eslam\\\\0-MY WORK\\\\Datasets\\\\2-German traffic benchmark\\\\\"\n",
    "\n",
    "os.listdir(data_path)"
   ]
  },
  {
   "cell_type": "markdown",
   "id": "7862213a",
   "metadata": {},
   "source": [
    "## Exploring data"
   ]
  },
  {
   "cell_type": "code",
   "execution_count": 19,
   "id": "36c48f79",
   "metadata": {},
   "outputs": [],
   "source": [
    "# The PIL library is used to open image content into an array\n",
    "from PIL import Image"
   ]
  },
  {
   "cell_type": "code",
   "execution_count": 20,
   "id": "9c8f3699",
   "metadata": {},
   "outputs": [],
   "source": [
    "data = []\n",
    "labels = []\n",
    "classes = 43\n",
    "\n",
    "cur_path = os.getcwd()\n",
    "\n",
    "for i in range(43):\n",
    "    path = os.path.join(data_path, \"train\", str(i))\n",
    "    images = os.listdir(path)\n",
    "    \n",
    "    \n",
    "    for a in images:\n",
    "        try:\n",
    "            image = Image.open(path+\"\\\\\" + a)\n",
    "            image = image.resize((30,30))\n",
    "            image = np.array(image)\n",
    "            \n",
    "            data.append(image)\n",
    "            labels.append(i)\n",
    "        except:\n",
    "            print(\"Error lpading image\")\n",
    "            \n",
    "\n",
    "    "
   ]
  },
  {
   "cell_type": "code",
   "execution_count": 21,
   "id": "49fde3dd",
   "metadata": {},
   "outputs": [],
   "source": [
    "data = np.array(data)\n",
    "labels = np.array(labels)"
   ]
  },
  {
   "cell_type": "code",
   "execution_count": 22,
   "id": "70ae4036",
   "metadata": {},
   "outputs": [
    {
     "name": "stdout",
     "output_type": "stream",
     "text": [
      "(39209, 30, 30, 3)\n"
     ]
    }
   ],
   "source": [
    "print(data.shape)"
   ]
  },
  {
   "cell_type": "code",
   "execution_count": 23,
   "id": "7fbde086",
   "metadata": {},
   "outputs": [
    {
     "name": "stdout",
     "output_type": "stream",
     "text": [
      "(39209,)\n"
     ]
    }
   ],
   "source": [
    "print(labels.shape)"
   ]
  },
  {
   "cell_type": "code",
   "execution_count": 24,
   "id": "4fca10d3",
   "metadata": {},
   "outputs": [],
   "source": [
    "# split the data to train ,test \n",
    "from sklearn.model_selection import train_test_split\n",
    "\n",
    "X_train, X_test, y_train, y_test = train_test_split(data, labels, test_size=0.33, random_state=42)"
   ]
  },
  {
   "cell_type": "code",
   "execution_count": 25,
   "id": "636ff5c1",
   "metadata": {},
   "outputs": [
    {
     "name": "stdout",
     "output_type": "stream",
     "text": [
      "(26270, 30, 30, 3) (26270,)\n",
      "(12939, 30, 30, 3) (12939,)\n"
     ]
    }
   ],
   "source": [
    "print(X_train.shape, y_train.shape)\n",
    "print(X_test.shape , y_test.shape)"
   ]
  },
  {
   "cell_type": "markdown",
   "id": "091e73a9",
   "metadata": {},
   "source": [
    "**Convert the label using one-hot-encoding**"
   ]
  },
  {
   "cell_type": "code",
   "execution_count": 26,
   "id": "363011a9",
   "metadata": {},
   "outputs": [],
   "source": [
    "from tensorflow.keras.utils import to_categorical\n",
    "\n",
    "# converting\n",
    "y_train = to_categorical(y = y_train, num_classes= 43)\n",
    "y_test = to_categorical(y= y_test , num_classes= 43)"
   ]
  },
  {
   "cell_type": "code",
   "execution_count": 27,
   "id": "87556173",
   "metadata": {},
   "outputs": [
    {
     "data": {
      "text/plain": [
       "array([[0., 0., 1., ..., 0., 0., 0.],\n",
       "       [0., 0., 0., ..., 0., 0., 0.],\n",
       "       [0., 0., 0., ..., 0., 0., 0.],\n",
       "       ...,\n",
       "       [0., 0., 0., ..., 0., 0., 0.],\n",
       "       [0., 1., 0., ..., 0., 0., 0.],\n",
       "       [0., 0., 0., ..., 0., 0., 0.]], dtype=float32)"
      ]
     },
     "execution_count": 27,
     "metadata": {},
     "output_type": "execute_result"
    }
   ],
   "source": [
    "y_train"
   ]
  },
  {
   "cell_type": "code",
   "execution_count": 28,
   "id": "c17f855a",
   "metadata": {},
   "outputs": [
    {
     "data": {
      "text/plain": [
       "array([[0., 0., 0., ..., 0., 0., 0.],\n",
       "       [0., 0., 0., ..., 0., 0., 0.],\n",
       "       [0., 0., 0., ..., 0., 0., 0.],\n",
       "       ...,\n",
       "       [0., 0., 1., ..., 0., 0., 0.],\n",
       "       [0., 0., 0., ..., 0., 0., 0.],\n",
       "       [0., 0., 0., ..., 0., 0., 0.]], dtype=float32)"
      ]
     },
     "execution_count": 28,
     "metadata": {},
     "output_type": "execute_result"
    }
   ],
   "source": [
    "y_test"
   ]
  },
  {
   "cell_type": "code",
   "execution_count": 29,
   "id": "b0cd8cd9",
   "metadata": {},
   "outputs": [
    {
     "name": "stdout",
     "output_type": "stream",
     "text": [
      "(26270, 43)\n",
      "(12939, 43)\n"
     ]
    }
   ],
   "source": [
    "print(y_train.shape)\n",
    "print(y_test.shape)"
   ]
  },
  {
   "cell_type": "markdown",
   "id": "3d66f583",
   "metadata": {},
   "source": [
    "## start build the classifier"
   ]
  },
  {
   "cell_type": "code",
   "execution_count": 30,
   "id": "ef156486",
   "metadata": {},
   "outputs": [],
   "source": [
    "from tensorflow.keras.models import Sequential\n",
    "from tensorflow.keras.layers import Dense, Conv2D, Dropout, MaxPool2D , Flatten\n",
    "\n",
    "\n",
    "model = Sequential()\n",
    "# first layer\n",
    "model.add(Conv2D(filters= 32, kernel_size=(5,5) , activation= \"relu\" , input_shape = X_train.shape[1:]))\n",
    "model.add(Conv2D(filters= 32, kernel_size=(5,5) , activation= \"relu\"))\n",
    "model.add(MaxPool2D(pool_size= (2,2)))\n",
    "model.add(Dropout(rate = 0.25))\n",
    "\n",
    "# layer 2\n",
    "model.add(Conv2D(filters= 64, kernel_size=(3,3) , activation= \"relu\"))\n",
    "model.add(Conv2D(filters= 64, kernel_size=(3,3) , activation= \"relu\"))\n",
    "model.add(MaxPool2D(pool_size= (2,2)))\n",
    "model.add(Dropout(rate = 0.25))\n",
    "\n",
    "model.add(Flatten())\n",
    "\n",
    "# dense layers\n",
    "model.add(Dense(256, \"relu\"))\n",
    "model.add(Dropout(rate= 0.5))\n",
    "\n",
    "# output layer\n",
    "model.add(Dense(43 , activation= \"softmax\"))\n",
    "\n",
    "# compile the model\n",
    "model.compile(optimizer = \"adam\", \n",
    "             loss = \"categorical_crossentropy\", \n",
    "             metrics = [\"accuracy\"])"
   ]
  },
  {
   "cell_type": "code",
   "execution_count": 31,
   "id": "5cbedb15",
   "metadata": {},
   "outputs": [],
   "source": [
    "# create early stop \n",
    "from tensorflow.keras.callbacks import EarlyStopping\n",
    "early_stop = EarlyStopping(monitor= \"val_loss\" , patience= 2)"
   ]
  },
  {
   "cell_type": "markdown",
   "id": "cf2d8215",
   "metadata": {},
   "source": [
    "## train the model "
   ]
  },
  {
   "cell_type": "code",
   "execution_count": 32,
   "id": "ffb89de7",
   "metadata": {},
   "outputs": [
    {
     "name": "stdout",
     "output_type": "stream",
     "text": [
      "Train on 26270 samples, validate on 12939 samples\n",
      "Epoch 1/15\n",
      "26270/26270 [==============================] - 61s 2ms/sample - loss: 2.3898 - accuracy: 0.4171 - val_loss: 0.7106 - val_accuracy: 0.8415\n",
      "Epoch 2/15\n",
      "26270/26270 [==============================] - 65s 2ms/sample - loss: 0.9505 - accuracy: 0.7317 - val_loss: 0.4001 - val_accuracy: 0.9047\n",
      "Epoch 3/15\n",
      "26270/26270 [==============================] - 64s 2ms/sample - loss: 0.6576 - accuracy: 0.8083 - val_loss: 0.2501 - val_accuracy: 0.9335\n",
      "Epoch 4/15\n",
      "26270/26270 [==============================] - 69s 3ms/sample - loss: 0.4871 - accuracy: 0.8544 - val_loss: 0.2076 - val_accuracy: 0.9428\n",
      "Epoch 5/15\n",
      "26270/26270 [==============================] - 79s 3ms/sample - loss: 0.4155 - accuracy: 0.8780 - val_loss: 0.1802 - val_accuracy: 0.9481\n",
      "Epoch 6/15\n",
      "26270/26270 [==============================] - 70s 3ms/sample - loss: 0.3686 - accuracy: 0.8896 - val_loss: 0.1259 - val_accuracy: 0.9641\n",
      "Epoch 7/15\n",
      "26270/26270 [==============================] - 69s 3ms/sample - loss: 0.3217 - accuracy: 0.9034 - val_loss: 0.1383 - val_accuracy: 0.9609\n",
      "Epoch 8/15\n",
      "26270/26270 [==============================] - 69s 3ms/sample - loss: 0.3068 - accuracy: 0.9107 - val_loss: 0.0960 - val_accuracy: 0.9739\n",
      "Epoch 9/15\n",
      "26270/26270 [==============================] - 69s 3ms/sample - loss: 0.2696 - accuracy: 0.9183 - val_loss: 0.1181 - val_accuracy: 0.9648\n",
      "Epoch 10/15\n",
      "26270/26270 [==============================] - 66s 3ms/sample - loss: 0.2682 - accuracy: 0.9193 - val_loss: 0.0868 - val_accuracy: 0.9746\n",
      "Epoch 11/15\n",
      "26270/26270 [==============================] - 67s 3ms/sample - loss: 0.2356 - accuracy: 0.9310 - val_loss: 0.0858 - val_accuracy: 0.9750\n",
      "Epoch 12/15\n",
      "26270/26270 [==============================] - 73s 3ms/sample - loss: 0.2593 - accuracy: 0.9218 - val_loss: 0.0834 - val_accuracy: 0.9780\n",
      "Epoch 13/15\n",
      "26270/26270 [==============================] - 70s 3ms/sample - loss: 0.2310 - accuracy: 0.9321 - val_loss: 0.0854 - val_accuracy: 0.9764\n",
      "Epoch 14/15\n",
      "26270/26270 [==============================] - 67s 3ms/sample - loss: 0.2443 - accuracy: 0.9275 - val_loss: 0.0664 - val_accuracy: 0.9798\n",
      "Epoch 15/15\n",
      "26270/26270 [==============================] - 69s 3ms/sample - loss: 0.2216 - accuracy: 0.9353 - val_loss: 0.0700 - val_accuracy: 0.9781\n"
     ]
    },
    {
     "data": {
      "text/plain": [
       "<tensorflow.python.keras.callbacks.History at 0x2243bcd5608>"
      ]
     },
     "execution_count": 32,
     "metadata": {},
     "output_type": "execute_result"
    }
   ],
   "source": [
    "model.fit(X_train , y_train , \n",
    "         batch_size = 64,\n",
    "         epochs = 15,\n",
    "         validation_data = (X_test, y_test),\n",
    "         callbacks = [early_stop])\n"
   ]
  },
  {
   "cell_type": "code",
   "execution_count": 33,
   "id": "e1b9a6da",
   "metadata": {},
   "outputs": [
    {
     "data": {
      "text/html": [
       "<div>\n",
       "<style scoped>\n",
       "    .dataframe tbody tr th:only-of-type {\n",
       "        vertical-align: middle;\n",
       "    }\n",
       "\n",
       "    .dataframe tbody tr th {\n",
       "        vertical-align: top;\n",
       "    }\n",
       "\n",
       "    .dataframe thead th {\n",
       "        text-align: right;\n",
       "    }\n",
       "</style>\n",
       "<table border=\"1\" class=\"dataframe\">\n",
       "  <thead>\n",
       "    <tr style=\"text-align: right;\">\n",
       "      <th></th>\n",
       "      <th>loss</th>\n",
       "      <th>accuracy</th>\n",
       "      <th>val_loss</th>\n",
       "      <th>val_accuracy</th>\n",
       "    </tr>\n",
       "  </thead>\n",
       "  <tbody>\n",
       "    <tr>\n",
       "      <th>0</th>\n",
       "      <td>2.389826</td>\n",
       "      <td>0.417092</td>\n",
       "      <td>0.710569</td>\n",
       "      <td>0.841487</td>\n",
       "    </tr>\n",
       "    <tr>\n",
       "      <th>1</th>\n",
       "      <td>0.950502</td>\n",
       "      <td>0.731747</td>\n",
       "      <td>0.400065</td>\n",
       "      <td>0.904707</td>\n",
       "    </tr>\n",
       "    <tr>\n",
       "      <th>2</th>\n",
       "      <td>0.657618</td>\n",
       "      <td>0.808298</td>\n",
       "      <td>0.250082</td>\n",
       "      <td>0.933534</td>\n",
       "    </tr>\n",
       "    <tr>\n",
       "      <th>3</th>\n",
       "      <td>0.487098</td>\n",
       "      <td>0.854359</td>\n",
       "      <td>0.207581</td>\n",
       "      <td>0.942809</td>\n",
       "    </tr>\n",
       "    <tr>\n",
       "      <th>4</th>\n",
       "      <td>0.415480</td>\n",
       "      <td>0.877960</td>\n",
       "      <td>0.180202</td>\n",
       "      <td>0.948064</td>\n",
       "    </tr>\n",
       "    <tr>\n",
       "      <th>5</th>\n",
       "      <td>0.368620</td>\n",
       "      <td>0.889646</td>\n",
       "      <td>0.125864</td>\n",
       "      <td>0.964062</td>\n",
       "    </tr>\n",
       "    <tr>\n",
       "      <th>6</th>\n",
       "      <td>0.321709</td>\n",
       "      <td>0.903426</td>\n",
       "      <td>0.138296</td>\n",
       "      <td>0.960893</td>\n",
       "    </tr>\n",
       "    <tr>\n",
       "      <th>7</th>\n",
       "      <td>0.306829</td>\n",
       "      <td>0.910659</td>\n",
       "      <td>0.096025</td>\n",
       "      <td>0.973877</td>\n",
       "    </tr>\n",
       "    <tr>\n",
       "      <th>8</th>\n",
       "      <td>0.269550</td>\n",
       "      <td>0.918310</td>\n",
       "      <td>0.118130</td>\n",
       "      <td>0.964835</td>\n",
       "    </tr>\n",
       "    <tr>\n",
       "      <th>9</th>\n",
       "      <td>0.268163</td>\n",
       "      <td>0.919300</td>\n",
       "      <td>0.086848</td>\n",
       "      <td>0.974573</td>\n",
       "    </tr>\n",
       "    <tr>\n",
       "      <th>10</th>\n",
       "      <td>0.235645</td>\n",
       "      <td>0.930986</td>\n",
       "      <td>0.085816</td>\n",
       "      <td>0.974959</td>\n",
       "    </tr>\n",
       "    <tr>\n",
       "      <th>11</th>\n",
       "      <td>0.259260</td>\n",
       "      <td>0.921812</td>\n",
       "      <td>0.083444</td>\n",
       "      <td>0.977974</td>\n",
       "    </tr>\n",
       "    <tr>\n",
       "      <th>12</th>\n",
       "      <td>0.231047</td>\n",
       "      <td>0.932128</td>\n",
       "      <td>0.085407</td>\n",
       "      <td>0.976428</td>\n",
       "    </tr>\n",
       "    <tr>\n",
       "      <th>13</th>\n",
       "      <td>0.244263</td>\n",
       "      <td>0.927484</td>\n",
       "      <td>0.066418</td>\n",
       "      <td>0.979828</td>\n",
       "    </tr>\n",
       "    <tr>\n",
       "      <th>14</th>\n",
       "      <td>0.221616</td>\n",
       "      <td>0.935325</td>\n",
       "      <td>0.069954</td>\n",
       "      <td>0.978128</td>\n",
       "    </tr>\n",
       "  </tbody>\n",
       "</table>\n",
       "</div>"
      ],
      "text/plain": [
       "        loss  accuracy  val_loss  val_accuracy\n",
       "0   2.389826  0.417092  0.710569      0.841487\n",
       "1   0.950502  0.731747  0.400065      0.904707\n",
       "2   0.657618  0.808298  0.250082      0.933534\n",
       "3   0.487098  0.854359  0.207581      0.942809\n",
       "4   0.415480  0.877960  0.180202      0.948064\n",
       "5   0.368620  0.889646  0.125864      0.964062\n",
       "6   0.321709  0.903426  0.138296      0.960893\n",
       "7   0.306829  0.910659  0.096025      0.973877\n",
       "8   0.269550  0.918310  0.118130      0.964835\n",
       "9   0.268163  0.919300  0.086848      0.974573\n",
       "10  0.235645  0.930986  0.085816      0.974959\n",
       "11  0.259260  0.921812  0.083444      0.977974\n",
       "12  0.231047  0.932128  0.085407      0.976428\n",
       "13  0.244263  0.927484  0.066418      0.979828\n",
       "14  0.221616  0.935325  0.069954      0.978128"
      ]
     },
     "execution_count": 33,
     "metadata": {},
     "output_type": "execute_result"
    }
   ],
   "source": [
    "losses = pd.DataFrame(model.history.history)\n",
    "losses"
   ]
  },
  {
   "cell_type": "code",
   "execution_count": 39,
   "id": "64948f03",
   "metadata": {},
   "outputs": [
    {
     "data": {
      "text/plain": [
       "Text(0, 0.5, 'accuracy score')"
      ]
     },
     "execution_count": 39,
     "metadata": {},
     "output_type": "execute_result"
    },
    {
     "data": {
      "text/plain": [
       "<Figure size 720x360 with 0 Axes>"
      ]
     },
     "metadata": {},
     "output_type": "display_data"
    },
    {
     "data": {
      "image/png": "[encoded data removed]",
      "text/plain": [
       "<Figure size 720x360 with 1 Axes>"
      ]
     },
     "metadata": {
      "needs_background": "light"
     },
     "output_type": "display_data"
    }
   ],
   "source": [
    "plt.figure(figsize = (10,5))\n",
    "losses[[\"accuracy\",\"val_accuracy\"]].plot(figsize = (10,5) , title = \"Training Accuracy vs Validation Accuracy\" ,\n",
    "                                         legend = \"best\" )\n",
    "\n",
    "plt.xlabel(\"epochs\")\n",
    "plt.ylabel(\"accuracy score\")\n",
    "\n",
    "\n",
    "# run to save the plot as image\n",
    "# plt.savefig(\"Training Accuracy.jpg\")\n",
    "# plt.close()\n",
    "\n"
   ]
  },
  {
   "cell_type": "code",
   "execution_count": 41,
   "id": "8d025efa",
   "metadata": {},
   "outputs": [
    {
     "data": {
      "text/plain": [
       "<matplotlib.legend.Legend at 0x224586858c8>"
      ]
     },
     "execution_count": 41,
     "metadata": {},
     "output_type": "execute_result"
    },
    {
     "data": {
      "image/png": "[encoded data removed]",
      "text/plain": [
       "<Figure size 720x360 with 1 Axes>"
      ]
     },
     "metadata": {
      "needs_background": "light"
     },
     "output_type": "display_data"
    }
   ],
   "source": [
    "plt.figure(figsize = (10,5))\n",
    "plt.plot(losses[[\"accuracy\"]] , label = \"accuracy\")\n",
    "plt.plot(losses[[\"val_accuracy\"]] , label = \"val_accuracy\")\n",
    "\n",
    "plt.xlabel(\"epochs\")\n",
    "plt.ylabel(\"accuracy score\")\n",
    "plt.title(\"Training accuracy vs vakidation accuracy\")\n",
    "plt.legend(loc = \"best\")\n",
    "\n",
    "# save the figure as an image \n",
    "# plt.savefig(\"training accuracy.png\")\n",
    "# plt.close()                       # you have to close the plt show moode or something near to this check the link below \n",
    "\n",
    "# ( https://stackoverflow.com/questions/9622163/save-plot-to-image-file-instead-of-displaying-it-using-matplotlib )"
   ]
  },
  {
   "cell_type": "code",
   "execution_count": 43,
   "id": "5237ff90",
   "metadata": {},
   "outputs": [
    {
     "data": {
      "text/plain": [
       "<matplotlib.legend.Legend at 0x2245875bcc8>"
      ]
     },
     "execution_count": 43,
     "metadata": {},
     "output_type": "execute_result"
    },
    {
     "data": {
      "image/png": "[encoded data removed]",
      "text/plain": [
       "<Figure size 720x360 with 1 Axes>"
      ]
     },
     "metadata": {
      "needs_background": "light"
     },
     "output_type": "display_data"
    }
   ],
   "source": [
    "plt.figure(figsize = (10,5))\n",
    "plt.plot(losses[[\"loss\"]] , label = \"loss\")\n",
    "plt.plot(losses[[\"val_loss\"]] , label = \"val_loss\")\n",
    "\n",
    "plt.xlabel(\"epochs\")\n",
    "plt.ylabel(\"accuracy score\")\n",
    "plt.title(\"Training accuracy vs vakidation accuracy\")\n",
    "plt.legend(loc = \"best\")\n",
    "\n",
    "# plt.savefig(\"training losses.png\")\n",
    "# plt.close()"
   ]
  },
  {
   "cell_type": "code",
   "execution_count": null,
   "id": "f990e3dd",
   "metadata": {},
   "outputs": [],
   "source": []
  },
  {
   "cell_type": "code",
   "execution_count": null,
   "id": "e9fcdd74",
   "metadata": {},
   "outputs": [],
   "source": []
  },
  {
   "cell_type": "code",
   "execution_count": 44,
   "id": "ef2ff1bc",
   "metadata": {},
   "outputs": [],
   "source": [
    "import pandas as pd\n",
    "test = pd.read_csv(\"C:\\\\Users\\\\eslam\\\\0-MY WORK\\\\Datasets\\\\2-German traffic benchmark\\\\Test.csv\")\n",
    "labels = test[\"ClassId\"].values\n",
    "images = test[\"Path\"].values\n",
    "\n",
    "\n"
   ]
  },
  {
   "cell_type": "code",
   "execution_count": null,
   "id": "2816e122",
   "metadata": {},
   "outputs": [],
   "source": []
  },
  {
   "cell_type": "code",
   "execution_count": 45,
   "id": "356c8c19",
   "metadata": {},
   "outputs": [
    {
     "data": {
      "image/png": "[encoded data removed]",
      "text/plain": [
       "<PIL.PngImagePlugin.PngImageFile image mode=RGB size=42x45 at 0x224587C87C8>"
      ]
     },
     "execution_count": 45,
     "metadata": {},
     "output_type": "execute_result"
    }
   ],
   "source": [
    "Image.open(\"C:\\\\Users\\\\eslam\\\\0-MY WORK\\\\Datasets\\\\2-German traffic benchmark\\\\Test\\\\00001.png\")"
   ]
  },
  {
   "cell_type": "code",
   "execution_count": 46,
   "id": "c8dd07d2",
   "metadata": {},
   "outputs": [],
   "source": [
    "data = []\n",
    "\n",
    "for img in images:\n",
    "    image = Image.open(data_path+ str(img))\n",
    "    image = image.resize((30,30))\n",
    "    data.append(np.array(image))\n",
    "    "
   ]
  },
  {
   "cell_type": "code",
   "execution_count": 47,
   "id": "f57cdeb5",
   "metadata": {},
   "outputs": [],
   "source": [
    "# convert to array\n",
    "X_test = np.array(data)"
   ]
  },
  {
   "cell_type": "code",
   "execution_count": null,
   "id": "c4d04245",
   "metadata": {},
   "outputs": [],
   "source": []
  },
  {
   "cell_type": "code",
   "execution_count": 48,
   "id": "8a8207c5",
   "metadata": {},
   "outputs": [],
   "source": [
    "X_test = X_test.astype(\"float32\")"
   ]
  },
  {
   "cell_type": "code",
   "execution_count": 49,
   "id": "00e270ef",
   "metadata": {},
   "outputs": [],
   "source": [
    "pred = model.predict_classes(X_test)"
   ]
  },
  {
   "cell_type": "markdown",
   "id": "cb044aed",
   "metadata": {},
   "source": [
    "## Evaluating the model "
   ]
  },
  {
   "cell_type": "code",
   "execution_count": 50,
   "id": "dbe83370",
   "metadata": {},
   "outputs": [],
   "source": [
    "from sklearn.metrics import classification_report, confusion_matrix, accuracy_score"
   ]
  },
  {
   "cell_type": "code",
   "execution_count": 51,
   "id": "ce545762",
   "metadata": {},
   "outputs": [
    {
     "name": "stdout",
     "output_type": "stream",
     "text": [
      "The Accuracy Score of our Classifier is [0.9484560570071259]\n"
     ]
    }
   ],
   "source": [
    "print(\"The Accuracy Score of our Classifier is [{}]\".format(accuracy_score(labels , pred)))"
   ]
  },
  {
   "cell_type": "code",
   "execution_count": 52,
   "id": "7deb6022",
   "metadata": {},
   "outputs": [
    {
     "data": {
      "text/plain": [
       "array([[ 59,   0,   0, ...,   0,   0,   0],\n",
       "       [  1, 688,  14, ...,   0,   0,   0],\n",
       "       [  0,   3, 737, ...,   0,   0,   0],\n",
       "       ...,\n",
       "       [  0,   1,   0, ...,  88,   0,   0],\n",
       "       [  0,   0,   0, ...,   0,  40,   0],\n",
       "       [  0,   0,   0, ...,   0,   0,  83]], dtype=int64)"
      ]
     },
     "execution_count": 52,
     "metadata": {},
     "output_type": "execute_result"
    }
   ],
   "source": [
    "# classification report\n",
    "matrix = confusion_matrix(labels , pred)\n",
    "matrix"
   ]
  },
  {
   "cell_type": "code",
   "execution_count": 53,
   "id": "c8589ca1",
   "metadata": {},
   "outputs": [
    {
     "data": {
      "text/plain": [
       "<matplotlib.axes._subplots.AxesSubplot at 0x2244bf1fbc8>"
      ]
     },
     "execution_count": 53,
     "metadata": {},
     "output_type": "execute_result"
    },
    {
     "data": {
      "image/png": "[encoded data removed]",
      "text/plain": [
       "<Figure size 1080x576 with 2 Axes>"
      ]
     },
     "metadata": {
      "needs_background": "light"
     },
     "output_type": "display_data"
    }
   ],
   "source": [
    "plt.figure(figsize = (15, 8))\n",
    "sns.heatmap(matrix)"
   ]
  },
  {
   "cell_type": "code",
   "execution_count": null,
   "id": "013179a7",
   "metadata": {},
   "outputs": [],
   "source": [
    "print(classification_report(labels , pred))"
   ]
  },
  {
   "cell_type": "code",
   "execution_count": 54,
   "id": "f53d37d8",
   "metadata": {},
   "outputs": [
    {
     "data": {
      "text/html": [
       "<div>\n",
       "<style scoped>\n",
       "    .dataframe tbody tr th:only-of-type {\n",
       "        vertical-align: middle;\n",
       "    }\n",
       "\n",
       "    .dataframe tbody tr th {\n",
       "        vertical-align: top;\n",
       "    }\n",
       "\n",
       "    .dataframe thead th {\n",
       "        text-align: right;\n",
       "    }\n",
       "</style>\n",
       "<table border=\"1\" class=\"dataframe\">\n",
       "  <thead>\n",
       "    <tr style=\"text-align: right;\">\n",
       "      <th></th>\n",
       "      <th>precision</th>\n",
       "      <th>recall</th>\n",
       "      <th>f1-score</th>\n",
       "      <th>support</th>\n",
       "    </tr>\n",
       "  </thead>\n",
       "  <tbody>\n",
       "    <tr>\n",
       "      <th>0</th>\n",
       "      <td>0.983333</td>\n",
       "      <td>0.983333</td>\n",
       "      <td>0.983333</td>\n",
       "      <td>60.000000</td>\n",
       "    </tr>\n",
       "    <tr>\n",
       "      <th>1</th>\n",
       "      <td>0.950276</td>\n",
       "      <td>0.955556</td>\n",
       "      <td>0.952909</td>\n",
       "      <td>720.000000</td>\n",
       "    </tr>\n",
       "    <tr>\n",
       "      <th>2</th>\n",
       "      <td>0.921250</td>\n",
       "      <td>0.982667</td>\n",
       "      <td>0.950968</td>\n",
       "      <td>750.000000</td>\n",
       "    </tr>\n",
       "    <tr>\n",
       "      <th>3</th>\n",
       "      <td>0.980344</td>\n",
       "      <td>0.886667</td>\n",
       "      <td>0.931155</td>\n",
       "      <td>450.000000</td>\n",
       "    </tr>\n",
       "    <tr>\n",
       "      <th>4</th>\n",
       "      <td>0.976780</td>\n",
       "      <td>0.956061</td>\n",
       "      <td>0.966309</td>\n",
       "      <td>660.000000</td>\n",
       "    </tr>\n",
       "    <tr>\n",
       "      <th>5</th>\n",
       "      <td>0.901991</td>\n",
       "      <td>0.934921</td>\n",
       "      <td>0.918161</td>\n",
       "      <td>630.000000</td>\n",
       "    </tr>\n",
       "    <tr>\n",
       "      <th>6</th>\n",
       "      <td>0.983871</td>\n",
       "      <td>0.813333</td>\n",
       "      <td>0.890511</td>\n",
       "      <td>150.000000</td>\n",
       "    </tr>\n",
       "    <tr>\n",
       "      <th>7</th>\n",
       "      <td>0.940789</td>\n",
       "      <td>0.953333</td>\n",
       "      <td>0.947020</td>\n",
       "      <td>450.000000</td>\n",
       "    </tr>\n",
       "    <tr>\n",
       "      <th>8</th>\n",
       "      <td>0.932914</td>\n",
       "      <td>0.988889</td>\n",
       "      <td>0.960086</td>\n",
       "      <td>450.000000</td>\n",
       "    </tr>\n",
       "    <tr>\n",
       "      <th>9</th>\n",
       "      <td>0.959267</td>\n",
       "      <td>0.981250</td>\n",
       "      <td>0.970134</td>\n",
       "      <td>480.000000</td>\n",
       "    </tr>\n",
       "    <tr>\n",
       "      <th>10</th>\n",
       "      <td>0.977169</td>\n",
       "      <td>0.972727</td>\n",
       "      <td>0.974943</td>\n",
       "      <td>660.000000</td>\n",
       "    </tr>\n",
       "    <tr>\n",
       "      <th>11</th>\n",
       "      <td>0.944175</td>\n",
       "      <td>0.926190</td>\n",
       "      <td>0.935096</td>\n",
       "      <td>420.000000</td>\n",
       "    </tr>\n",
       "    <tr>\n",
       "      <th>12</th>\n",
       "      <td>0.987692</td>\n",
       "      <td>0.930435</td>\n",
       "      <td>0.958209</td>\n",
       "      <td>690.000000</td>\n",
       "    </tr>\n",
       "    <tr>\n",
       "      <th>13</th>\n",
       "      <td>0.984911</td>\n",
       "      <td>0.997222</td>\n",
       "      <td>0.991028</td>\n",
       "      <td>720.000000</td>\n",
       "    </tr>\n",
       "    <tr>\n",
       "      <th>14</th>\n",
       "      <td>0.996310</td>\n",
       "      <td>1.000000</td>\n",
       "      <td>0.998152</td>\n",
       "      <td>270.000000</td>\n",
       "    </tr>\n",
       "    <tr>\n",
       "      <th>15</th>\n",
       "      <td>0.843373</td>\n",
       "      <td>1.000000</td>\n",
       "      <td>0.915033</td>\n",
       "      <td>210.000000</td>\n",
       "    </tr>\n",
       "    <tr>\n",
       "      <th>16</th>\n",
       "      <td>0.980263</td>\n",
       "      <td>0.993333</td>\n",
       "      <td>0.986755</td>\n",
       "      <td>150.000000</td>\n",
       "    </tr>\n",
       "    <tr>\n",
       "      <th>17</th>\n",
       "      <td>0.994460</td>\n",
       "      <td>0.997222</td>\n",
       "      <td>0.995839</td>\n",
       "      <td>360.000000</td>\n",
       "    </tr>\n",
       "    <tr>\n",
       "      <th>18</th>\n",
       "      <td>0.969136</td>\n",
       "      <td>0.805128</td>\n",
       "      <td>0.879552</td>\n",
       "      <td>390.000000</td>\n",
       "    </tr>\n",
       "    <tr>\n",
       "      <th>19</th>\n",
       "      <td>0.766234</td>\n",
       "      <td>0.983333</td>\n",
       "      <td>0.861314</td>\n",
       "      <td>60.000000</td>\n",
       "    </tr>\n",
       "    <tr>\n",
       "      <th>20</th>\n",
       "      <td>0.858586</td>\n",
       "      <td>0.944444</td>\n",
       "      <td>0.899471</td>\n",
       "      <td>90.000000</td>\n",
       "    </tr>\n",
       "    <tr>\n",
       "      <th>21</th>\n",
       "      <td>0.842697</td>\n",
       "      <td>0.833333</td>\n",
       "      <td>0.837989</td>\n",
       "      <td>90.000000</td>\n",
       "    </tr>\n",
       "    <tr>\n",
       "      <th>22</th>\n",
       "      <td>0.974138</td>\n",
       "      <td>0.941667</td>\n",
       "      <td>0.957627</td>\n",
       "      <td>120.000000</td>\n",
       "    </tr>\n",
       "    <tr>\n",
       "      <th>23</th>\n",
       "      <td>0.826816</td>\n",
       "      <td>0.986667</td>\n",
       "      <td>0.899696</td>\n",
       "      <td>150.000000</td>\n",
       "    </tr>\n",
       "    <tr>\n",
       "      <th>24</th>\n",
       "      <td>0.939024</td>\n",
       "      <td>0.855556</td>\n",
       "      <td>0.895349</td>\n",
       "      <td>90.000000</td>\n",
       "    </tr>\n",
       "    <tr>\n",
       "      <th>25</th>\n",
       "      <td>0.984305</td>\n",
       "      <td>0.914583</td>\n",
       "      <td>0.948164</td>\n",
       "      <td>480.000000</td>\n",
       "    </tr>\n",
       "    <tr>\n",
       "      <th>26</th>\n",
       "      <td>0.839024</td>\n",
       "      <td>0.955556</td>\n",
       "      <td>0.893506</td>\n",
       "      <td>180.000000</td>\n",
       "    </tr>\n",
       "    <tr>\n",
       "      <th>27</th>\n",
       "      <td>0.833333</td>\n",
       "      <td>0.500000</td>\n",
       "      <td>0.625000</td>\n",
       "      <td>60.000000</td>\n",
       "    </tr>\n",
       "    <tr>\n",
       "      <th>28</th>\n",
       "      <td>0.986301</td>\n",
       "      <td>0.960000</td>\n",
       "      <td>0.972973</td>\n",
       "      <td>150.000000</td>\n",
       "    </tr>\n",
       "    <tr>\n",
       "      <th>29</th>\n",
       "      <td>0.852941</td>\n",
       "      <td>0.966667</td>\n",
       "      <td>0.906250</td>\n",
       "      <td>90.000000</td>\n",
       "    </tr>\n",
       "    <tr>\n",
       "      <th>30</th>\n",
       "      <td>0.795620</td>\n",
       "      <td>0.726667</td>\n",
       "      <td>0.759582</td>\n",
       "      <td>150.000000</td>\n",
       "    </tr>\n",
       "    <tr>\n",
       "      <th>31</th>\n",
       "      <td>0.888889</td>\n",
       "      <td>0.977778</td>\n",
       "      <td>0.931217</td>\n",
       "      <td>270.000000</td>\n",
       "    </tr>\n",
       "    <tr>\n",
       "      <th>32</th>\n",
       "      <td>0.769231</td>\n",
       "      <td>1.000000</td>\n",
       "      <td>0.869565</td>\n",
       "      <td>60.000000</td>\n",
       "    </tr>\n",
       "    <tr>\n",
       "      <th>33</th>\n",
       "      <td>0.981043</td>\n",
       "      <td>0.985714</td>\n",
       "      <td>0.983373</td>\n",
       "      <td>210.000000</td>\n",
       "    </tr>\n",
       "    <tr>\n",
       "      <th>34</th>\n",
       "      <td>0.975410</td>\n",
       "      <td>0.991667</td>\n",
       "      <td>0.983471</td>\n",
       "      <td>120.000000</td>\n",
       "    </tr>\n",
       "    <tr>\n",
       "      <th>35</th>\n",
       "      <td>0.994751</td>\n",
       "      <td>0.971795</td>\n",
       "      <td>0.983139</td>\n",
       "      <td>390.000000</td>\n",
       "    </tr>\n",
       "    <tr>\n",
       "      <th>36</th>\n",
       "      <td>1.000000</td>\n",
       "      <td>0.991667</td>\n",
       "      <td>0.995816</td>\n",
       "      <td>120.000000</td>\n",
       "    </tr>\n",
       "    <tr>\n",
       "      <th>37</th>\n",
       "      <td>0.967213</td>\n",
       "      <td>0.983333</td>\n",
       "      <td>0.975207</td>\n",
       "      <td>60.000000</td>\n",
       "    </tr>\n",
       "    <tr>\n",
       "      <th>38</th>\n",
       "      <td>0.992669</td>\n",
       "      <td>0.981159</td>\n",
       "      <td>0.986880</td>\n",
       "      <td>690.000000</td>\n",
       "    </tr>\n",
       "    <tr>\n",
       "      <th>39</th>\n",
       "      <td>0.976471</td>\n",
       "      <td>0.922222</td>\n",
       "      <td>0.948571</td>\n",
       "      <td>90.000000</td>\n",
       "    </tr>\n",
       "    <tr>\n",
       "      <th>40</th>\n",
       "      <td>0.838095</td>\n",
       "      <td>0.977778</td>\n",
       "      <td>0.902564</td>\n",
       "      <td>90.000000</td>\n",
       "    </tr>\n",
       "    <tr>\n",
       "      <th>41</th>\n",
       "      <td>0.975610</td>\n",
       "      <td>0.666667</td>\n",
       "      <td>0.792079</td>\n",
       "      <td>60.000000</td>\n",
       "    </tr>\n",
       "    <tr>\n",
       "      <th>42</th>\n",
       "      <td>0.912088</td>\n",
       "      <td>0.922222</td>\n",
       "      <td>0.917127</td>\n",
       "      <td>90.000000</td>\n",
       "    </tr>\n",
       "    <tr>\n",
       "      <th>accuracy</th>\n",
       "      <td>0.948456</td>\n",
       "      <td>0.948456</td>\n",
       "      <td>0.948456</td>\n",
       "      <td>0.948456</td>\n",
       "    </tr>\n",
       "    <tr>\n",
       "      <th>macro avg</th>\n",
       "      <td>0.929739</td>\n",
       "      <td>0.930203</td>\n",
       "      <td>0.926305</td>\n",
       "      <td>12630.000000</td>\n",
       "    </tr>\n",
       "    <tr>\n",
       "      <th>weighted avg</th>\n",
       "      <td>0.950658</td>\n",
       "      <td>0.948456</td>\n",
       "      <td>0.948034</td>\n",
       "      <td>12630.000000</td>\n",
       "    </tr>\n",
       "  </tbody>\n",
       "</table>\n",
       "</div>"
      ],
      "text/plain": [
       "              precision    recall  f1-score       support\n",
       "0              0.983333  0.983333  0.983333     60.000000\n",
       "1              0.950276  0.955556  0.952909    720.000000\n",
       "2              0.921250  0.982667  0.950968    750.000000\n",
       "3              0.980344  0.886667  0.931155    450.000000\n",
       "4              0.976780  0.956061  0.966309    660.000000\n",
       "5              0.901991  0.934921  0.918161    630.000000\n",
       "6              0.983871  0.813333  0.890511    150.000000\n",
       "7              0.940789  0.953333  0.947020    450.000000\n",
       "8              0.932914  0.988889  0.960086    450.000000\n",
       "9              0.959267  0.981250  0.970134    480.000000\n",
       "10             0.977169  0.972727  0.974943    660.000000\n",
       "11             0.944175  0.926190  0.935096    420.000000\n",
       "12             0.987692  0.930435  0.958209    690.000000\n",
       "13             0.984911  0.997222  0.991028    720.000000\n",
       "14             0.996310  1.000000  0.998152    270.000000\n",
       "15             0.843373  1.000000  0.915033    210.000000\n",
       "16             0.980263  0.993333  0.986755    150.000000\n",
       "17             0.994460  0.997222  0.995839    360.000000\n",
       "18             0.969136  0.805128  0.879552    390.000000\n",
       "19             0.766234  0.983333  0.861314     60.000000\n",
       "20             0.858586  0.944444  0.899471     90.000000\n",
       "21             0.842697  0.833333  0.837989     90.000000\n",
       "22             0.974138  0.941667  0.957627    120.000000\n",
       "23             0.826816  0.986667  0.899696    150.000000\n",
       "24             0.939024  0.855556  0.895349     90.000000\n",
       "25             0.984305  0.914583  0.948164    480.000000\n",
       "26             0.839024  0.955556  0.893506    180.000000\n",
       "27             0.833333  0.500000  0.625000     60.000000\n",
       "28             0.986301  0.960000  0.972973    150.000000\n",
       "29             0.852941  0.966667  0.906250     90.000000\n",
       "30             0.795620  0.726667  0.759582    150.000000\n",
       "31             0.888889  0.977778  0.931217    270.000000\n",
       "32             0.769231  1.000000  0.869565     60.000000\n",
       "33             0.981043  0.985714  0.983373    210.000000\n",
       "34             0.975410  0.991667  0.983471    120.000000\n",
       "35             0.994751  0.971795  0.983139    390.000000\n",
       "36             1.000000  0.991667  0.995816    120.000000\n",
       "37             0.967213  0.983333  0.975207     60.000000\n",
       "38             0.992669  0.981159  0.986880    690.000000\n",
       "39             0.976471  0.922222  0.948571     90.000000\n",
       "40             0.838095  0.977778  0.902564     90.000000\n",
       "41             0.975610  0.666667  0.792079     60.000000\n",
       "42             0.912088  0.922222  0.917127     90.000000\n",
       "accuracy       0.948456  0.948456  0.948456      0.948456\n",
       "macro avg      0.929739  0.930203  0.926305  12630.000000\n",
       "weighted avg   0.950658  0.948456  0.948034  12630.000000"
      ]
     },
     "execution_count": 54,
     "metadata": {},
     "output_type": "execute_result"
    }
   ],
   "source": [
    "# transform yosur classification report into a file\n",
    "\n",
    "report = classification_report(labels , pred, output_dict= True)\n",
    "report_df = pd.DataFrame(report).transpose()\n",
    "\n",
    "report_df"
   ]
  },
  {
   "cell_type": "code",
   "execution_count": 55,
   "id": "34d9f014",
   "metadata": {},
   "outputs": [],
   "source": [
    "report_df.to_csv(\"model_1_tuned report.csv\")"
   ]
  },
  {
   "cell_type": "code",
   "execution_count": 56,
   "id": "f25adcb2",
   "metadata": {},
   "outputs": [
    {
     "name": "stdout",
     "output_type": "stream",
     "text": [
      "Model: \"sequential_1\"\n",
      "_________________________________________________________________\n",
      "Layer (type)                 Output Shape              Param #   \n",
      "=================================================================\n",
      "conv2d_4 (Conv2D)            (None, 26, 26, 32)        2432      \n",
      "_________________________________________________________________\n",
      "conv2d_5 (Conv2D)            (None, 22, 22, 32)        25632     \n",
      "_________________________________________________________________\n",
      "max_pooling2d_2 (MaxPooling2 (None, 11, 11, 32)        0         \n",
      "_________________________________________________________________\n",
      "dropout_3 (Dropout)          (None, 11, 11, 32)        0         \n",
      "_________________________________________________________________\n",
      "conv2d_6 (Conv2D)            (None, 9, 9, 64)          18496     \n",
      "_________________________________________________________________\n",
      "conv2d_7 (Conv2D)            (None, 7, 7, 64)          36928     \n",
      "_________________________________________________________________\n",
      "max_pooling2d_3 (MaxPooling2 (None, 3, 3, 64)          0         \n",
      "_________________________________________________________________\n",
      "dropout_4 (Dropout)          (None, 3, 3, 64)          0         \n",
      "_________________________________________________________________\n",
      "flatten_1 (Flatten)          (None, 576)               0         \n",
      "_________________________________________________________________\n",
      "dense_2 (Dense)              (None, 256)               147712    \n",
      "_________________________________________________________________\n",
      "dropout_5 (Dropout)          (None, 256)               0         \n",
      "_________________________________________________________________\n",
      "dense_3 (Dense)              (None, 43)                11051     \n",
      "=================================================================\n",
      "Total params: 242,251\n",
      "Trainable params: 242,251\n",
      "Non-trainable params: 0\n",
      "_________________________________________________________________\n"
     ]
    }
   ],
   "source": [
    "model.summary()"
   ]
  },
  {
   "cell_type": "markdown",
   "id": "4fecfbe4",
   "metadata": {},
   "source": [
    "## save model summary "
   ]
  },
  {
   "cell_type": "code",
   "execution_count": 57,
   "id": "a8ffe8e5",
   "metadata": {},
   "outputs": [],
   "source": [
    "from contextlib import redirect_stdout\n",
    "\n",
    "with open('modeltunedsummary.txt', 'w') as f:\n",
    "    with redirect_stdout(f):\n",
    "        model.summary()"
   ]
  },
  {
   "cell_type": "markdown",
   "id": "9b68e79b",
   "metadata": {},
   "source": [
    "## Save model"
   ]
  },
  {
   "cell_type": "code",
   "execution_count": 58,
   "id": "97766040",
   "metadata": {},
   "outputs": [],
   "source": [
    "model.save(\"model1_tuned.h5\")"
   ]
  },
  {
   "cell_type": "code",
   "execution_count": null,
   "id": "934eb302",
   "metadata": {},
   "outputs": [],
   "source": []
  }
 ],
 "metadata": {
  "kernelspec": {
   "display_name": "Python 3",
   "language": "python",
   "name": "python3"
  },
  "language_info": {
   "codemirror_mode": {
    "name": "ipython",
    "version": 3
   },
   "file_extension": ".py",
   "mimetype": "text/x-python",
   "name": "python",
   "nbconvert_exporter": "python",
   "pygments_lexer": "ipython3",
   "version": "3.7.10"
  }
 },
 "nbformat": 4,
 "nbformat_minor": 5
}
